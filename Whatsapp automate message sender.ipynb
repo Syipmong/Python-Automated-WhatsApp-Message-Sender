{
 "cells": [
  {
   "cell_type": "code",
   "execution_count": 1,
   "id": "09f72824",
   "metadata": {},
   "outputs": [],
   "source": [
    "import pywhatkit\n",
    "import pyautogui\n",
    "from pynput.keyboard import Key, Controller\n",
    "import emoji\n",
    "import random\n",
    "import time "
   ]
  },
  {
   "cell_type": "code",
   "execution_count": null,
   "id": "514fcb34",
   "metadata": {},
   "outputs": [],
   "source": [
    "def send_whatsapp_message(phoneNumber, msg, hour, minute):\n",
    "    try:\n",
    "        pywhatkit.sendwhatmsg(phoneNumber, msg, hour, minute)\n",
    "        time.sleep(10)\n",
    "        pyautogui.click()\n",
    "        time.sleep(1)\n",
    "        Controller().press(Key.enter)\n",
    "        Controller().release(Key.enter)\n",
    "        time.sleep(1)\n",
    "        print(\"Message sent!\")\n",
    "    except Exception as e:\n",
    "        print(str(e))\n",
    "\n",
    "theMessage = random.choice(['Hi, How are you?',\n",
    "             'How is your day?',\n",
    "             emoji.emojize('I love you :sparkling_heart:'),\n",
    "             emoji.emojize(':red_heart:\", variant=\"emoji_type'),\n",
    "             emoji.emojize(':beating_heart:'),\n",
    "             emoji.emojize(':smiling_face_with_heart-eyes:')])\n",
    "\n",
    "phoneNumber = int(input('What number would you like to text? number must include the country calling code  '))\n",
    "numberOfMessages = int(input('How many times would you like to send a message?  '))\n",
    "startingHour = int(input('This script sends messages randomly between 2 hours.\\nWhat hour would you like to start?  '))\n",
    "endingHour = int(input('What hour whould you like to stop?  '))\n",
    "\n",
    "while numberOfMessages != 0:\n",
    "    hour = random.randrange(startingHour, endingHour)\n",
    "    minute = random.randrange(0, 60)\n",
    "    numberOfMessages -= 1\n",
    "    send_whatsapp_message(phoneNumber, emoji.emojize('I love you :sparkling_heart:'), hour, minute)"
   ]
  },
  {
   "cell_type": "code",
   "execution_count": null,
   "id": "50a18b9a",
   "metadata": {},
   "outputs": [],
   "source": []
  }
 ],
 "metadata": {
  "kernelspec": {
   "display_name": "Python 3 (ipykernel)",
   "language": "python",
   "name": "python3"
  },
  "language_info": {
   "codemirror_mode": {
    "name": "ipython",
    "version": 3
   },
   "file_extension": ".py",
   "mimetype": "text/x-python",
   "name": "python",
   "nbconvert_exporter": "python",
   "pygments_lexer": "ipython3",
   "version": "3.7.11"
  }
 },
 "nbformat": 4,
 "nbformat_minor": 5
}
